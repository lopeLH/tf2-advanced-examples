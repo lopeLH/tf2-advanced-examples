{
 "cells": [
  {
   "cell_type": "code",
   "execution_count": 1,
   "metadata": {
    "ExecuteTime": {
     "end_time": "2020-05-20T17:04:09.650894Z",
     "start_time": "2020-05-20T17:04:08.602911Z"
    }
   },
   "outputs": [
    {
     "name": "stderr",
     "output_type": "stream",
     "text": [
      "/home/dlopez/.local/lib/python3.6/site-packages/tensorflow/python/framework/dtypes.py:516: FutureWarning: Passing (type, 1) or '1type' as a synonym of type is deprecated; in a future version of numpy, it will be understood as (type, (1,)) / '(1,)type'.\n",
      "  _np_qint8 = np.dtype([(\"qint8\", np.int8, 1)])\n",
      "/home/dlopez/.local/lib/python3.6/site-packages/tensorflow/python/framework/dtypes.py:517: FutureWarning: Passing (type, 1) or '1type' as a synonym of type is deprecated; in a future version of numpy, it will be understood as (type, (1,)) / '(1,)type'.\n",
      "  _np_quint8 = np.dtype([(\"quint8\", np.uint8, 1)])\n",
      "/home/dlopez/.local/lib/python3.6/site-packages/tensorflow/python/framework/dtypes.py:518: FutureWarning: Passing (type, 1) or '1type' as a synonym of type is deprecated; in a future version of numpy, it will be understood as (type, (1,)) / '(1,)type'.\n",
      "  _np_qint16 = np.dtype([(\"qint16\", np.int16, 1)])\n",
      "/home/dlopez/.local/lib/python3.6/site-packages/tensorflow/python/framework/dtypes.py:519: FutureWarning: Passing (type, 1) or '1type' as a synonym of type is deprecated; in a future version of numpy, it will be understood as (type, (1,)) / '(1,)type'.\n",
      "  _np_quint16 = np.dtype([(\"quint16\", np.uint16, 1)])\n",
      "/home/dlopez/.local/lib/python3.6/site-packages/tensorflow/python/framework/dtypes.py:520: FutureWarning: Passing (type, 1) or '1type' as a synonym of type is deprecated; in a future version of numpy, it will be understood as (type, (1,)) / '(1,)type'.\n",
      "  _np_qint32 = np.dtype([(\"qint32\", np.int32, 1)])\n",
      "/home/dlopez/.local/lib/python3.6/site-packages/tensorflow/python/framework/dtypes.py:525: FutureWarning: Passing (type, 1) or '1type' as a synonym of type is deprecated; in a future version of numpy, it will be understood as (type, (1,)) / '(1,)type'.\n",
      "  np_resource = np.dtype([(\"resource\", np.ubyte, 1)])\n",
      "/home/dlopez/.local/lib/python3.6/site-packages/tensorboard/compat/tensorflow_stub/dtypes.py:541: FutureWarning: Passing (type, 1) or '1type' as a synonym of type is deprecated; in a future version of numpy, it will be understood as (type, (1,)) / '(1,)type'.\n",
      "  _np_qint8 = np.dtype([(\"qint8\", np.int8, 1)])\n",
      "/home/dlopez/.local/lib/python3.6/site-packages/tensorboard/compat/tensorflow_stub/dtypes.py:542: FutureWarning: Passing (type, 1) or '1type' as a synonym of type is deprecated; in a future version of numpy, it will be understood as (type, (1,)) / '(1,)type'.\n",
      "  _np_quint8 = np.dtype([(\"quint8\", np.uint8, 1)])\n",
      "/home/dlopez/.local/lib/python3.6/site-packages/tensorboard/compat/tensorflow_stub/dtypes.py:543: FutureWarning: Passing (type, 1) or '1type' as a synonym of type is deprecated; in a future version of numpy, it will be understood as (type, (1,)) / '(1,)type'.\n",
      "  _np_qint16 = np.dtype([(\"qint16\", np.int16, 1)])\n",
      "/home/dlopez/.local/lib/python3.6/site-packages/tensorboard/compat/tensorflow_stub/dtypes.py:544: FutureWarning: Passing (type, 1) or '1type' as a synonym of type is deprecated; in a future version of numpy, it will be understood as (type, (1,)) / '(1,)type'.\n",
      "  _np_quint16 = np.dtype([(\"quint16\", np.uint16, 1)])\n",
      "/home/dlopez/.local/lib/python3.6/site-packages/tensorboard/compat/tensorflow_stub/dtypes.py:545: FutureWarning: Passing (type, 1) or '1type' as a synonym of type is deprecated; in a future version of numpy, it will be understood as (type, (1,)) / '(1,)type'.\n",
      "  _np_qint32 = np.dtype([(\"qint32\", np.int32, 1)])\n",
      "/home/dlopez/.local/lib/python3.6/site-packages/tensorboard/compat/tensorflow_stub/dtypes.py:550: FutureWarning: Passing (type, 1) or '1type' as a synonym of type is deprecated; in a future version of numpy, it will be understood as (type, (1,)) / '(1,)type'.\n",
      "  np_resource = np.dtype([(\"resource\", np.ubyte, 1)])\n"
     ]
    }
   ],
   "source": [
    "import tensorflow as tf\n",
    "from tensorflow import keras\n",
    "import numpy as np"
   ]
  },
  {
   "cell_type": "code",
   "execution_count": 2,
   "metadata": {
    "ExecuteTime": {
     "end_time": "2020-05-20T17:04:14.162308Z",
     "start_time": "2020-05-20T17:04:11.077620Z"
    }
   },
   "outputs": [],
   "source": [
    "(X_train, Y_train), (X_test, Y_test) =  keras.datasets.imdb.load_data()"
   ]
  },
  {
   "cell_type": "code",
   "execution_count": 3,
   "metadata": {
    "ExecuteTime": {
     "end_time": "2020-05-20T17:04:14.241279Z",
     "start_time": "2020-05-20T17:04:14.172018Z"
    }
   },
   "outputs": [],
   "source": [
    "X_train_padded = []\n",
    "\n",
    "for i in range(X_train.shape[0]):\n",
    "    \n",
    "    x = X_train[i]\n",
    "    x = x[:20]\n",
    "    \n",
    "    \n",
    "    if len(x) < 20:\n",
    "        x = np.concatenate([x, [0]*(20-len(x))])\n",
    "    \n",
    "    X_train_padded.append(x)\n",
    "    \n",
    "X_train_padded = np.asarray(X_train_padded)"
   ]
  },
  {
   "cell_type": "code",
   "execution_count": 8,
   "metadata": {
    "ExecuteTime": {
     "end_time": "2020-05-20T17:07:21.020394Z",
     "start_time": "2020-05-20T17:07:20.473662Z"
    }
   },
   "outputs": [],
   "source": [
    "model = keras.models.Sequential()                                                  # (None, Ts,   1)\n",
    "\n",
    "model.add(keras.layers.Embedding(88580, 64))                                       # (None, Ts,  64)\n",
    "model.add(keras.layers.Bidirectional(keras.layers.GRU(64, return_sequences=True),\n",
    "                                     merge_mode=\"concat\"))                         # (None, Ts, 128) \n",
    "model.add(keras.layers.GRU(32))                                                    # (None,      32)\n",
    "model.add(keras.layers.Dense(1, activation=\"sigmoid\"))                             # (None,       1)\n",
    "\n",
    "model.compile(keras.optimizers.Adam(0.001), keras.losses.binary_crossentropy, metrics=[\"accuracy\"])"
   ]
  },
  {
   "cell_type": "code",
   "execution_count": 9,
   "metadata": {
    "ExecuteTime": {
     "end_time": "2020-05-20T17:07:21.898862Z",
     "start_time": "2020-05-20T17:07:21.894657Z"
    }
   },
   "outputs": [
    {
     "name": "stdout",
     "output_type": "stream",
     "text": [
      "Model: \"sequential_3\"\n",
      "_________________________________________________________________\n",
      "Layer (type)                 Output Shape              Param #   \n",
      "=================================================================\n",
      "embedding_3 (Embedding)      (None, None, 64)          5669120   \n",
      "_________________________________________________________________\n",
      "bidirectional_3 (Bidirection (None, None, 128)         49536     \n",
      "_________________________________________________________________\n",
      "gru_6 (GRU)                  (None, 32)                15456     \n",
      "_________________________________________________________________\n",
      "dense_2 (Dense)              (None, 1)                 33        \n",
      "=================================================================\n",
      "Total params: 5,734,145\n",
      "Trainable params: 5,734,145\n",
      "Non-trainable params: 0\n",
      "_________________________________________________________________\n"
     ]
    }
   ],
   "source": [
    "model.summary()"
   ]
  },
  {
   "cell_type": "code",
   "execution_count": 15,
   "metadata": {
    "ExecuteTime": {
     "end_time": "2020-05-18T21:03:31.541806Z",
     "start_time": "2020-05-18T20:58:02.684882Z"
    }
   },
   "outputs": [
    {
     "name": "stdout",
     "output_type": "stream",
     "text": [
      "Epoch 1/10\n",
      "25000/25000 [==============================] - 34s 1ms/sample - loss: 0.5795 - acc: 0.6829\n",
      "Epoch 2/10\n",
      "25000/25000 [==============================] - 33s 1ms/sample - loss: 0.4100 - acc: 0.8129\n",
      "Epoch 3/10\n",
      "25000/25000 [==============================] - 33s 1ms/sample - loss: 0.2669 - acc: 0.8893\n",
      "Epoch 4/10\n",
      "25000/25000 [==============================] - 33s 1ms/sample - loss: 0.1620 - acc: 0.9367\n",
      "Epoch 5/10\n",
      "25000/25000 [==============================] - 33s 1ms/sample - loss: 0.0986 - acc: 0.9636\n",
      "Epoch 6/10\n",
      "25000/25000 [==============================] - 33s 1ms/sample - loss: 0.0613 - acc: 0.9784\n",
      "Epoch 7/10\n",
      "25000/25000 [==============================] - 33s 1ms/sample - loss: 0.0446 - acc: 0.9854\n",
      "Epoch 8/10\n",
      "25000/25000 [==============================] - 33s 1ms/sample - loss: 0.0341 - acc: 0.9886\n",
      "Epoch 9/10\n",
      "25000/25000 [==============================] - 32s 1ms/sample - loss: 0.0250 - acc: 0.9917\n",
      "Epoch 10/10\n",
      "25000/25000 [==============================] - 33s 1ms/sample - loss: 0.0207 - acc: 0.9928\n"
     ]
    },
    {
     "data": {
      "text/plain": [
       "<tensorflow.python.keras.callbacks.History at 0x7f29a31572e8>"
      ]
     },
     "execution_count": 15,
     "metadata": {},
     "output_type": "execute_result"
    }
   ],
   "source": [
    "model.fit(X_train_padded, Y_train, epochs=10)"
   ]
  },
  {
   "cell_type": "code",
   "execution_count": null,
   "metadata": {
    "ExecuteTime": {
     "end_time": "2020-05-18T20:41:33.319158Z",
     "start_time": "2020-05-18T20:40:35.738Z"
    }
   },
   "outputs": [],
   "source": [
    "import matplotlib.pyplot as plt\n",
    "idx = np.random.randint(X_train.shape[0])\n",
    "plt.imshow(np.concatenate([X_train_in[idx], model.predict(X_train_in[idx:idx+1])[0]], axis=0)[:,:,0])"
   ]
  },
  {
   "cell_type": "code",
   "execution_count": null,
   "metadata": {
    "ExecuteTime": {
     "end_time": "2020-05-18T20:41:33.322133Z",
     "start_time": "2020-05-18T20:40:35.773Z"
    }
   },
   "outputs": [],
   "source": [
    "import matplotlib.pyplot as plt\n",
    "idx = np.random.randint(X_test.shape[0])\n",
    "plt.imshow(np.concatenate([X_test_in[idx], model.predict(X_test_in[idx:idx+1])[0]], axis=0)[:,:,0])\n",
    "plt.plot([0,27.5],[17.5, 17.5], color=\"red\")"
   ]
  },
  {
   "cell_type": "code",
   "execution_count": null,
   "metadata": {},
   "outputs": [],
   "source": []
  }
 ],
 "metadata": {
  "hide_input": false,
  "kernelspec": {
   "display_name": "Python 3",
   "language": "python",
   "name": "python3"
  },
  "language_info": {
   "codemirror_mode": {
    "name": "ipython",
    "version": 3
   },
   "file_extension": ".py",
   "mimetype": "text/x-python",
   "name": "python",
   "nbconvert_exporter": "python",
   "pygments_lexer": "ipython3",
   "version": "3.6.9"
  },
  "toc": {
   "base_numbering": 1,
   "nav_menu": {},
   "number_sections": true,
   "sideBar": true,
   "skip_h1_title": false,
   "title_cell": "Table of Contents",
   "title_sidebar": "Contents",
   "toc_cell": false,
   "toc_position": {},
   "toc_section_display": true,
   "toc_window_display": false
  },
  "varInspector": {
   "cols": {
    "lenName": 16,
    "lenType": 16,
    "lenVar": 40
   },
   "kernels_config": {
    "python": {
     "delete_cmd_postfix": "",
     "delete_cmd_prefix": "del ",
     "library": "var_list.py",
     "varRefreshCmd": "print(var_dic_list())"
    },
    "r": {
     "delete_cmd_postfix": ") ",
     "delete_cmd_prefix": "rm(",
     "library": "var_list.r",
     "varRefreshCmd": "cat(var_dic_list()) "
    }
   },
   "types_to_exclude": [
    "module",
    "function",
    "builtin_function_or_method",
    "instance",
    "_Feature"
   ],
   "window_display": false
  }
 },
 "nbformat": 4,
 "nbformat_minor": 4
}
