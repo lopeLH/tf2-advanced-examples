{
 "cells": [
  {
   "cell_type": "code",
   "execution_count": 2,
   "metadata": {
    "ExecuteTime": {
     "end_time": "2020-05-19T20:02:11.905708Z",
     "start_time": "2020-05-19T20:02:11.898744Z"
    }
   },
   "outputs": [],
   "source": [
    "import tensorflow as tf\n",
    "from tensorflow import keras\n",
    "\n",
    "import numpy as np"
   ]
  },
  {
   "cell_type": "code",
   "execution_count": 3,
   "metadata": {
    "ExecuteTime": {
     "end_time": "2020-05-19T20:02:12.811800Z",
     "start_time": "2020-05-19T20:02:12.469427Z"
    }
   },
   "outputs": [],
   "source": [
    "(X_train, Y_train), (X_test, Y_test) =  keras.datasets.fashion_mnist.load_data()"
   ]
  },
  {
   "cell_type": "code",
   "execution_count": 4,
   "metadata": {
    "ExecuteTime": {
     "end_time": "2020-05-19T20:02:13.267970Z",
     "start_time": "2020-05-19T20:02:13.260652Z"
    }
   },
   "outputs": [],
   "source": [
    "X_train = np.expand_dims(X_train, 3)\n",
    "X_test = np.expand_dims(X_test, 3)"
   ]
  },
  {
   "cell_type": "code",
   "execution_count": 5,
   "metadata": {
    "ExecuteTime": {
     "end_time": "2020-05-19T20:02:19.120995Z",
     "start_time": "2020-05-19T20:02:19.073572Z"
    }
   },
   "outputs": [],
   "source": [
    "shuffle_idxs_train = np.random.choice(np.arange(X_train.shape[0]), size=X_train.shape[0], replace=False)\n",
    "X_train = X_train[shuffle_idxs_train]\n",
    "Y_train= Y_train[shuffle_idxs_train]"
   ]
  },
  {
   "cell_type": "code",
   "execution_count": 6,
   "metadata": {
    "ExecuteTime": {
     "end_time": "2020-05-19T20:02:19.690765Z",
     "start_time": "2020-05-19T20:02:19.681301Z"
    }
   },
   "outputs": [],
   "source": [
    "# One-hot encoded class labels\n",
    "Y_train_ohe = keras.utils.to_categorical(Y_train)\n",
    "Y_test_ohe = keras.utils.to_categorical(Y_test)"
   ]
  },
  {
   "cell_type": "code",
   "execution_count": 58,
   "metadata": {
    "ExecuteTime": {
     "end_time": "2020-05-19T20:25:28.251273Z",
     "start_time": "2020-05-19T20:25:28.183316Z"
    }
   },
   "outputs": [],
   "source": [
    "input = keras.layers.Input((28,28,1))\n",
    "\n",
    "conv1 = keras.layers.Conv2D(16, (3,3), strides=(1,1), padding=\"same\", activation=\"relu\")(input)\n",
    "maxp1 = keras.layers.MaxPool2D((2,2))(conv1)\n",
    "\n",
    "conv2 = keras.layers.Conv2D(32, (3,3), strides=(1,1), padding=\"same\", activation=\"relu\")(maxp1)\n",
    "maxp2 = keras.layers.MaxPool2D((2,2))(conv2)\n",
    "\n",
    "conv3 = keras.layers.Conv2D(64, (3,3), strides=(1,1), padding=\"same\", activation=\"relu\")(maxp2)\n",
    "\n",
    "resh = keras.layers.Reshape((7*7, 64))(conv3)\n",
    "\n",
    "# Query, value -> Output shape of value\n",
    "att = keras.layers.Attention()([resh, resh])\n",
    "flat = keras.layers.Flatten()(att)\n",
    "dense = keras.layers.Dense(10, activation=\"softmax\")(flat)\n",
    "\n",
    "model = keras.models.Model(inputs=input, outputs=dense)\n",
    "model_attention = keras.models.Model(inputs=input, outputs=att)"
   ]
  },
  {
   "cell_type": "code",
   "execution_count": 59,
   "metadata": {
    "ExecuteTime": {
     "end_time": "2020-05-19T20:25:28.775183Z",
     "start_time": "2020-05-19T20:25:28.758880Z"
    }
   },
   "outputs": [
    {
     "name": "stdout",
     "output_type": "stream",
     "text": [
      "Model: \"model_26\"\n",
      "__________________________________________________________________________________________________\n",
      "Layer (type)                    Output Shape         Param #     Connected to                     \n",
      "==================================================================================================\n",
      "input_14 (InputLayer)           [(None, 28, 28, 1)]  0                                            \n",
      "__________________________________________________________________________________________________\n",
      "conv2d_39 (Conv2D)              (None, 28, 28, 16)   160         input_14[0][0]                   \n",
      "__________________________________________________________________________________________________\n",
      "max_pooling2d_26 (MaxPooling2D) (None, 14, 14, 16)   0           conv2d_39[0][0]                  \n",
      "__________________________________________________________________________________________________\n",
      "conv2d_40 (Conv2D)              (None, 14, 14, 32)   4640        max_pooling2d_26[0][0]           \n",
      "__________________________________________________________________________________________________\n",
      "max_pooling2d_27 (MaxPooling2D) (None, 7, 7, 32)     0           conv2d_40[0][0]                  \n",
      "__________________________________________________________________________________________________\n",
      "conv2d_41 (Conv2D)              (None, 7, 7, 64)     18496       max_pooling2d_27[0][0]           \n",
      "__________________________________________________________________________________________________\n",
      "reshape_13 (Reshape)            (None, 49, 64)       0           conv2d_41[0][0]                  \n",
      "__________________________________________________________________________________________________\n",
      "attention_12 (Attention)        (None, 49, 64)       0           reshape_13[0][0]                 \n",
      "                                                                 reshape_13[0][0]                 \n",
      "__________________________________________________________________________________________________\n",
      "flatten_13 (Flatten)            (None, 3136)         0           attention_12[0][0]               \n",
      "__________________________________________________________________________________________________\n",
      "dense_13 (Dense)                (None, 10)           31370       flatten_13[0][0]                 \n",
      "==================================================================================================\n",
      "Total params: 54,666\n",
      "Trainable params: 54,666\n",
      "Non-trainable params: 0\n",
      "__________________________________________________________________________________________________\n"
     ]
    }
   ],
   "source": [
    "model.summary()"
   ]
  },
  {
   "cell_type": "code",
   "execution_count": 60,
   "metadata": {
    "ExecuteTime": {
     "end_time": "2020-05-19T20:25:30.733518Z",
     "start_time": "2020-05-19T20:25:30.692021Z"
    }
   },
   "outputs": [],
   "source": [
    "model.compile(keras.optimizers.Adam(1e-4), \"categorical_crossentropy\", metrics=[\"accuracy\"])"
   ]
  },
  {
   "cell_type": "code",
   "execution_count": 56,
   "metadata": {
    "ExecuteTime": {
     "end_time": "2020-05-19T20:24:18.607467Z",
     "start_time": "2020-05-19T20:21:07.244295Z"
    }
   },
   "outputs": [
    {
     "name": "stdout",
     "output_type": "stream",
     "text": [
      "Epoch 1/10\n",
      "60000/60000 [==============================] - 19s 311us/sample - loss: 2.1410 - acc: 0.5885\n",
      "Epoch 2/10\n",
      "60000/60000 [==============================] - 19s 322us/sample - loss: 1.0092 - acc: 0.7021\n",
      "Epoch 3/10\n",
      "60000/60000 [==============================] - 19s 319us/sample - loss: 0.7732 - acc: 0.7445\n",
      "Epoch 4/10\n",
      "60000/60000 [==============================] - 19s 318us/sample - loss: 0.6326 - acc: 0.7800\n",
      "Epoch 5/10\n",
      "60000/60000 [==============================] - 19s 317us/sample - loss: 0.5572 - acc: 0.8005\n",
      "Epoch 6/10\n",
      "60000/60000 [==============================] - 19s 318us/sample - loss: 0.5006 - acc: 0.8198\n",
      "Epoch 7/10\n",
      "60000/60000 [==============================] - 20s 326us/sample - loss: 0.4614 - acc: 0.8344\n",
      "Epoch 8/10\n",
      "60000/60000 [==============================] - 19s 319us/sample - loss: 0.4340 - acc: 0.8431\n",
      "Epoch 9/10\n",
      "60000/60000 [==============================] - 19s 315us/sample - loss: 0.4063 - acc: 0.8531\n",
      "Epoch 10/10\n",
      "60000/60000 [==============================] - 19s 318us/sample - loss: 0.3817 - acc: 0.8622\n"
     ]
    },
    {
     "data": {
      "text/plain": [
       "<tensorflow.python.keras.callbacks.History at 0x7fded7fd5b70>"
      ]
     },
     "execution_count": 56,
     "metadata": {},
     "output_type": "execute_result"
    }
   ],
   "source": [
    "model.fit(X_train, Y_train_ohe, epochs=10, batch_size=16, verbose=1)"
   ]
  },
  {
   "cell_type": "code",
   "execution_count": 61,
   "metadata": {
    "ExecuteTime": {
     "end_time": "2020-05-19T20:28:46.190201Z",
     "start_time": "2020-05-19T20:25:32.105984Z"
    }
   },
   "outputs": [
    {
     "name": "stdout",
     "output_type": "stream",
     "text": [
      "Epoch 1/10\n",
      "60000/60000 [==============================] - 19s 311us/sample - loss: 2.1415 - acc: 0.6509\n",
      "Epoch 2/10\n",
      "60000/60000 [==============================] - 19s 325us/sample - loss: 0.8999 - acc: 0.7737\n",
      "Epoch 3/10\n",
      "60000/60000 [==============================] - 19s 324us/sample - loss: 0.6377 - acc: 0.8140\n",
      "Epoch 4/10\n",
      "60000/60000 [==============================] - 19s 315us/sample - loss: 0.4620 - acc: 0.8464\n",
      "Epoch 5/10\n",
      "60000/60000 [==============================] - 19s 315us/sample - loss: 0.3664 - acc: 0.8734\n",
      "Epoch 6/10\n",
      "60000/60000 [==============================] - 19s 318us/sample - loss: 0.3102 - acc: 0.8882\n",
      "Epoch 7/10\n",
      "60000/60000 [==============================] - 20s 336us/sample - loss: 0.2794 - acc: 0.8980\n",
      "Epoch 8/10\n",
      "60000/60000 [==============================] - 20s 329us/sample - loss: 0.2521 - acc: 0.9087\n",
      "Epoch 9/10\n",
      "60000/60000 [==============================] - 19s 324us/sample - loss: 0.2316 - acc: 0.9161\n",
      "Epoch 10/10\n",
      "60000/60000 [==============================] - 20s 328us/sample - loss: 0.2165 - acc: 0.9209\n"
     ]
    },
    {
     "data": {
      "text/plain": [
       "<tensorflow.python.keras.callbacks.History at 0x7fded7accf98>"
      ]
     },
     "execution_count": 61,
     "metadata": {},
     "output_type": "execute_result"
    }
   ],
   "source": [
    "model.fit(X_train, Y_train_ohe, epochs=10, batch_size=16, verbose=1)"
   ]
  },
  {
   "cell_type": "code",
   "execution_count": 57,
   "metadata": {
    "ExecuteTime": {
     "end_time": "2020-05-19T20:25:18.478893Z",
     "start_time": "2020-05-19T20:25:17.516947Z"
    }
   },
   "outputs": [
    {
     "name": "stdout",
     "output_type": "stream",
     "text": [
      "10000/10000 [==============================] - 1s 88us/sample - loss: 0.4256 - acc: 0.8540\n"
     ]
    },
    {
     "data": {
      "text/plain": [
       "[0.42561167373657227, 0.854]"
      ]
     },
     "execution_count": 57,
     "metadata": {},
     "output_type": "execute_result"
    }
   ],
   "source": [
    "model.evaluate(X_test, Y_test_ohe)"
   ]
  },
  {
   "cell_type": "code",
   "execution_count": null,
   "metadata": {},
   "outputs": [],
   "source": []
  }
 ],
 "metadata": {
  "hide_input": false,
  "kernelspec": {
   "display_name": "Python 3",
   "language": "python",
   "name": "python3"
  },
  "language_info": {
   "codemirror_mode": {
    "name": "ipython",
    "version": 3
   },
   "file_extension": ".py",
   "mimetype": "text/x-python",
   "name": "python",
   "nbconvert_exporter": "python",
   "pygments_lexer": "ipython3",
   "version": "3.6.9"
  },
  "toc": {
   "base_numbering": 1,
   "nav_menu": {},
   "number_sections": true,
   "sideBar": true,
   "skip_h1_title": false,
   "title_cell": "Table of Contents",
   "title_sidebar": "Contents",
   "toc_cell": false,
   "toc_position": {},
   "toc_section_display": true,
   "toc_window_display": false
  },
  "varInspector": {
   "cols": {
    "lenName": 16,
    "lenType": 16,
    "lenVar": 40
   },
   "kernels_config": {
    "python": {
     "delete_cmd_postfix": "",
     "delete_cmd_prefix": "del ",
     "library": "var_list.py",
     "varRefreshCmd": "print(var_dic_list())"
    },
    "r": {
     "delete_cmd_postfix": ") ",
     "delete_cmd_prefix": "rm(",
     "library": "var_list.r",
     "varRefreshCmd": "cat(var_dic_list()) "
    }
   },
   "types_to_exclude": [
    "module",
    "function",
    "builtin_function_or_method",
    "instance",
    "_Feature"
   ],
   "window_display": false
  }
 },
 "nbformat": 4,
 "nbformat_minor": 4
}
