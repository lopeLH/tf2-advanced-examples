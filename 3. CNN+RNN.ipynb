{
 "cells": [
  {
   "cell_type": "code",
   "execution_count": 1,
   "metadata": {
    "ExecuteTime": {
     "end_time": "2020-05-20T16:37:47.458396Z",
     "start_time": "2020-05-20T16:37:47.236866Z"
    }
   },
   "outputs": [],
   "source": [
    "import numpy as np\n",
    "import matplotlib.pyplot as plt\n",
    "from skimage.draw import circle"
   ]
  },
  {
   "cell_type": "code",
   "execution_count": 2,
   "metadata": {
    "ExecuteTime": {
     "end_time": "2020-05-20T16:37:55.421085Z",
     "start_time": "2020-05-20T16:37:48.741150Z"
    }
   },
   "outputs": [],
   "source": [
    "n_samples = 10000\n",
    "seq_len = 6\n",
    "\n",
    "size = 16\n",
    "\n",
    "X_train = []\n",
    "Y_train = []\n",
    "\n",
    "for _ in range(n_samples):\n",
    "\n",
    "    i,j = np.random.randint(0, size+1, size=2)    \n",
    "    vi, vj = np.random.randint(-3, 3, size=2)\n",
    "    \n",
    "    sequence = np.zeros((seq_len, size, size, 1))\n",
    "    \n",
    "    for step in range(seq_len):\n",
    "        \n",
    "        i, j = i+vi, j+vj\n",
    "        \n",
    "        if i >= size: \n",
    "            i = size-1\n",
    "            vi *= -1\n",
    "        if i < 0:\n",
    "            i = 0\n",
    "            vi *= -1\n",
    "        if j >= size: \n",
    "            j = size-1\n",
    "            vj *= -1\n",
    "        if j < 0:\n",
    "            j = 0\n",
    "            vj *= -1        \n",
    "        \n",
    "        sequence[step, i, j, 0] = 1\n",
    "        rr,cc = circle(i,j, 2)\n",
    "        rr = np.clip(rr, 0, size-1)\n",
    "        cc = np.clip(cc, 0, size-1)\n",
    "        sequence[step, rr, cc] = 1\n",
    "        \n",
    "    X_train.append(sequence[:-1])\n",
    "    Y_train.append(sequence[-1])\n",
    "    \n",
    "X_train = np.asarray(X_train)\n",
    "Y_train = np.asarray(Y_train)"
   ]
  },
  {
   "cell_type": "code",
   "execution_count": 3,
   "metadata": {
    "ExecuteTime": {
     "end_time": "2020-05-20T16:37:55.589500Z",
     "start_time": "2020-05-20T16:37:55.454286Z"
    }
   },
   "outputs": [
    {
     "data": {
      "text/plain": [
       "<matplotlib.image.AxesImage at 0x7fe444cade10>"
      ]
     },
     "execution_count": 3,
     "metadata": {},
     "output_type": "execute_result"
    },
    {
     "data": {
      "image/png": "[encoded data removed]",
      "text/plain": [
       "<Figure size 432x288 with 1 Axes>"
      ]
     },
     "metadata": {
      "needs_background": "light"
     },
     "output_type": "display_data"
    }
   ],
   "source": [
    "idx = np.random.randint(100)\n",
    "seq = X_train[idx,:,:,:]\n",
    "pred = Y_train[idx]\n",
    "\n",
    "plt.imshow(np.sum(seq, axis=0)[:,:,0], cmap=\"gray\")\n",
    "plt.imshow(pred[:,:,0], alpha=0.5)"
   ]
  },
  {
   "cell_type": "code",
   "execution_count": 6,
   "metadata": {
    "ExecuteTime": {
     "end_time": "2020-05-20T16:39:15.502479Z",
     "start_time": "2020-05-20T16:39:15.496558Z"
    }
   },
   "outputs": [],
   "source": [
    "import keras"
   ]
  },
  {
   "cell_type": "code",
   "execution_count": 7,
   "metadata": {
    "ExecuteTime": {
     "end_time": "2020-05-20T16:39:16.535330Z",
     "start_time": "2020-05-20T16:39:16.532333Z"
    }
   },
   "outputs": [
    {
     "data": {
      "text/plain": [
       "(10000, 5, 16, 16, 1)"
      ]
     },
     "execution_count": 7,
     "metadata": {},
     "output_type": "execute_result"
    }
   ],
   "source": [
    "X_train.shape"
   ]
  },
  {
   "cell_type": "code",
   "execution_count": 15,
   "metadata": {
    "ExecuteTime": {
     "end_time": "2020-05-20T16:46:14.755075Z",
     "start_time": "2020-05-20T16:46:12.435865Z"
    }
   },
   "outputs": [],
   "source": [
    "from keras.layers import TimeDistributed\n",
    "\n",
    "model = keras.models.Sequential()                                                        # (None, Ts, 16, 16, 1)                                                                               \n",
    "\n",
    "model.add(TimeDistributed(keras.layers.Conv2D(32, 5, padding=\"same\", activation=\"relu\"), # (None, Ts, 16, 16, 32) \n",
    "                                       input_shape=(seq_len-1, size, size, 1)))     \n",
    "model.add(TimeDistributed(keras.layers.MaxPool2D((2, 2))))                               # (None, Ts,  8,  8, 32)  \n",
    "model.add(TimeDistributed(keras.layers.Conv2D(64, 5, padding=\"same\", activation=\"relu\")))# (None, Ts,  8,  8, 64) \n",
    "model.add(TimeDistributed(keras.layers.MaxPool2D((2, 2))))                               # (None, Ts,  4,  4, 64) \n",
    "model.add(TimeDistributed(keras.layers.Flatten()))                                       # (None, Ts,     4*4*64) \n",
    "model.add(keras.layers.LSTM(64*20))                                                      # (None,          64*20) \n",
    "model.add(keras.layers.Reshape((8, 8, 20)))                                              # (None,      8,  8, 20) \n",
    "model.add(keras.layers.Conv2DTranspose(10, (5,5), strides=(2,2),                         # (None,     16, 16, 10)\n",
    "                                       padding=\"same\", activation=\"relu\"))       \n",
    "model.add(keras.layers.Conv2DTranspose(1, (5,5), strides=(1,1),                          # (None,     16, 16,  1)\n",
    "                                       padding=\"same\", activation=\"sigmoid\"))"
   ]
  },
  {
   "cell_type": "code",
   "execution_count": 16,
   "metadata": {
    "ExecuteTime": {
     "end_time": "2020-05-20T16:46:16.122996Z",
     "start_time": "2020-05-20T16:46:16.116952Z"
    }
   },
   "outputs": [
    {
     "name": "stdout",
     "output_type": "stream",
     "text": [
      "Model: \"sequential_3\"\n",
      "____________________________________________________________________________________________________\n",
      "Layer (type)                                 Output Shape                            Param #        \n",
      "====================================================================================================\n",
      "time_distributed_11 (TimeDistributed)        (None, 5, 16, 16, 32)                   832            \n",
      "____________________________________________________________________________________________________\n",
      "time_distributed_12 (TimeDistributed)        (None, 5, 8, 8, 32)                     0              \n",
      "____________________________________________________________________________________________________\n",
      "time_distributed_13 (TimeDistributed)        (None, 5, 8, 8, 64)                     51264          \n",
      "____________________________________________________________________________________________________\n",
      "time_distributed_14 (TimeDistributed)        (None, 5, 4, 4, 64)                     0              \n",
      "____________________________________________________________________________________________________\n",
      "time_distributed_15 (TimeDistributed)        (None, 5, 1024)                         0              \n",
      "____________________________________________________________________________________________________\n",
      "lstm_3 (LSTM)                                (None, 1280)                            11801600       \n",
      "____________________________________________________________________________________________________\n",
      "reshape_3 (Reshape)                          (None, 8, 8, 20)                        0              \n",
      "____________________________________________________________________________________________________\n",
      "conv2d_transpose_5 (Conv2DTranspose)         (None, 16, 16, 10)                      5010           \n",
      "____________________________________________________________________________________________________\n",
      "conv2d_transpose_6 (Conv2DTranspose)         (None, 16, 16, 1)                       251            \n",
      "====================================================================================================\n",
      "Total params: 11,858,957\n",
      "Trainable params: 11,858,957\n",
      "Non-trainable params: 0\n",
      "____________________________________________________________________________________________________\n"
     ]
    }
   ],
   "source": [
    "model.summary(line_length=100)"
   ]
  },
  {
   "cell_type": "code",
   "execution_count": null,
   "metadata": {
    "ExecuteTime": {
     "end_time": "2020-05-19T20:00:32.106103Z",
     "start_time": "2020-05-19T20:00:32.067610Z"
    }
   },
   "outputs": [],
   "source": [
    "model.compile(keras.optimizers.Adam(0.0002), \"binary_crossentropy\")"
   ]
  },
  {
   "cell_type": "code",
   "execution_count": null,
   "metadata": {
    "ExecuteTime": {
     "end_time": "2020-05-19T20:00:41.036979Z",
     "start_time": "2020-05-19T20:00:35.953126Z"
    }
   },
   "outputs": [],
   "source": [
    "model.fit(X_train, Y_train, epochs=200, batch_size=32)"
   ]
  },
  {
   "cell_type": "code",
   "execution_count": null,
   "metadata": {
    "ExecuteTime": {
     "end_time": "2020-05-19T20:00:44.067979Z",
     "start_time": "2020-05-19T20:00:43.878468Z"
    }
   },
   "outputs": [],
   "source": [
    "seq = X_train[np.random.randint(100),:,:,:]\n",
    "pred = model.predict(np.asarray([seq]))[0]\n",
    "\n",
    "plt.imshow(np.sum(seq, axis=0)[:,:,0], cmap=\"gray\")\n",
    "plt.imshow(pred[:,:,0], alpha=0.5)"
   ]
  },
  {
   "cell_type": "code",
   "execution_count": null,
   "metadata": {},
   "outputs": [],
   "source": []
  }
 ],
 "metadata": {
  "hide_input": false,
  "kernelspec": {
   "display_name": "Python 3",
   "language": "python",
   "name": "python3"
  },
  "language_info": {
   "codemirror_mode": {
    "name": "ipython",
    "version": 3
   },
   "file_extension": ".py",
   "mimetype": "text/x-python",
   "name": "python",
   "nbconvert_exporter": "python",
   "pygments_lexer": "ipython3",
   "version": "3.6.9"
  },
  "toc": {
   "base_numbering": 1,
   "nav_menu": {},
   "number_sections": true,
   "sideBar": true,
   "skip_h1_title": false,
   "title_cell": "Table of Contents",
   "title_sidebar": "Contents",
   "toc_cell": false,
   "toc_position": {},
   "toc_section_display": true,
   "toc_window_display": false
  },
  "varInspector": {
   "cols": {
    "lenName": 16,
    "lenType": 16,
    "lenVar": 40
   },
   "kernels_config": {
    "python": {
     "delete_cmd_postfix": "",
     "delete_cmd_prefix": "del ",
     "library": "var_list.py",
     "varRefreshCmd": "print(var_dic_list())"
    },
    "r": {
     "delete_cmd_postfix": ") ",
     "delete_cmd_prefix": "rm(",
     "library": "var_list.r",
     "varRefreshCmd": "cat(var_dic_list()) "
    }
   },
   "types_to_exclude": [
    "module",
    "function",
    "builtin_function_or_method",
    "instance",
    "_Feature"
   ],
   "window_display": false
  }
 },
 "nbformat": 4,
 "nbformat_minor": 4
}
